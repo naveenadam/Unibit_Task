{
 "cells": [
  {
   "cell_type": "code",
   "execution_count": 5,
   "id": "99b77742",
   "metadata": {},
   "outputs": [
    {
     "name": "stdout",
     "output_type": "stream",
     "text": [
      "First Combination For \"4\" : [[3, 1], [2, 2], [8, -4]]\n",
      "Merged Array: [-6, -4, -2, 1, 2, 2, 3, 8]\n",
      "Second Combination For \"8\" : [[-4, 1, 3, 8], [-4, 2, 2, 8], [1, 2, 2, 3]]\n"
     ]
    }
   ],
   "source": [
    "from itertools import combinations\n",
    "def find_pairs(arr, tag):\n",
    "    pairs = []\n",
    "    hash_map = {}\n",
    "\n",
    "    for i in range(len(arr)):\n",
    "        complement = tag - arr[i]\n",
    "\n",
    "        if complement in hash_map:\n",
    "            pairs.append([arr[i], complement])\n",
    "\n",
    "        hash_map[arr[i]] = i\n",
    "\n",
    "    return pairs\n",
    "\n",
    "def merge_sort(arr):\n",
    "    if len(arr) <= 1:\n",
    "        return arr\n",
    "\n",
    "    mid = len(arr) // 2\n",
    "    left = arr[:mid]\n",
    "    right = arr[mid:]\n",
    "\n",
    "    return merge(merge_sort(left), merge_sort(right))\n",
    "\n",
    "def merge(left, right):\n",
    "    result = []\n",
    "\n",
    "    while left and right:\n",
    "        if left[0] <= right[0]:\n",
    "            result.append(left.pop(0))\n",
    "        else:\n",
    "            result.append(right.pop(0))\n",
    "\n",
    "    return result + left + right\n",
    "\n",
    "def double_tag(arr, tag):\n",
    "    combinations_four = []\n",
    "\n",
    "    for combo in combinations(arr, 4):\n",
    "        if sum(combo) == tag:\n",
    "            combinations_four.append(list(combo))\n",
    "\n",
    "    return combinations_four\n",
    "\n",
    "arr = [1, 3, 2, 2, -4, -6, -2, 8]\n",
    "tag = 4\n",
    "\n",
    "pairs = find_pairs(arr, tag)\n",
    "print(f'First Combination For \"{tag}\" : {pairs}')\n",
    "\n",
    "merged_array = merge_sort(arr)\n",
    "print(f'Merged Array: {merged_array}')\n",
    "\n",
    "double_tag_pairs = double_tag(merged_array, tag*2)\n",
    "print(f'Second Combination For \"{tag*2}\" : {double_tag_pairs}')"
   ]
  },
  {
   "cell_type": "code",
   "execution_count": null,
   "id": "78f8525a",
   "metadata": {},
   "outputs": [],
   "source": []
  }
 ],
 "metadata": {
  "kernelspec": {
   "display_name": "Python 3 (ipykernel)",
   "language": "python",
   "name": "python3"
  },
  "language_info": {
   "codemirror_mode": {
    "name": "ipython",
    "version": 3
   },
   "file_extension": ".py",
   "mimetype": "text/x-python",
   "name": "python",
   "nbconvert_exporter": "python",
   "pygments_lexer": "ipython3",
   "version": "3.9.12"
  }
 },
 "nbformat": 4,
 "nbformat_minor": 5
}
